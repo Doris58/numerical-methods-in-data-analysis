{
 "cells": [
  {
   "cell_type": "markdown",
   "id": "02db6b7e-6cd0-41a7-817d-9ca28df63bf8",
   "metadata": {
    "id": "02db6b7e-6cd0-41a7-817d-9ca28df63bf8"
   },
   "source": [
    "# Google PageRank"
   ]
  },
  {
   "cell_type": "markdown",
   "id": "8115738a-8820-42b4-bfea-0d9efe9f2509",
   "metadata": {
    "id": "8115738a-8820-42b4-bfea-0d9efe9f2509"
   },
   "source": [
    "## Implementacija Algoritma 3.1 :"
   ]
  },
  {
   "cell_type": "code",
   "execution_count": 2,
   "id": "1d48e373-e239-42df-94dd-b8f72d698769",
   "metadata": {
    "id": "1d48e373-e239-42df-94dd-b8f72d698769"
   },
   "outputs": [],
   "source": [
    "import numpy as np\n",
    "# sknetwork as skn\n",
    "#from sknetwork.visualization import svg_graph\n",
    "from IPython.display import SVG\n",
    "from scipy.sparse import csr_matrix\n",
    "#from sknetwork.ranking import PageRank"
   ]
  },
  {
   "cell_type": "code",
   "execution_count": 3,
   "id": "TbOLUgBINaUm",
   "metadata": {
    "id": "TbOLUgBINaUm"
   },
   "outputs": [],
   "source": [
    "def permute_matrix(A, groups):\n",
    "  out_degrees = A.sum(axis=1)  # Sum of each row\n",
    "\n",
    "  dangling_nodes = np.where(out_degrees == 0)[0]  # Indices of dangling nodes\n",
    "\n",
    "  non_dangling_nodes = np.where(out_degrees != 0)[0]\n",
    "\n",
    "  permutation = np.concatenate([non_dangling_nodes, dangling_nodes])\n",
    "\n",
    "  permutation_inverse = [0] * len(permutation)\n",
    "  for i in range(len(permutation)):\n",
    "    permutation_inverse[permutation[i]] = i\n",
    "  for t in range(len(groups)):\n",
    "    for i in range(len(groups[t])):\n",
    "      groups[t][i] = permutation_inverse[groups[t][i]]\n",
    "\n",
    "  permuted_matrix = A[permutation, :][:, permutation]\n",
    "\n",
    "  return (permuted_matrix,permutation, permutation_inverse, groups)"
   ]
  },
  {
   "cell_type": "code",
   "execution_count": 4,
   "id": "ba33c10b-21f7-4bba-a8a1-ecb77ab95bb5",
   "metadata": {
    "id": "ba33c10b-21f7-4bba-a8a1-ecb77ab95bb5"
   },
   "outputs": [],
   "source": [
    "def compute_pagerank(H, alpha = 0.85, v = None, w = None, epsilon = 1e-6, maxiter = 10000):\n",
    "\n",
    "    # za faktor alpha za PageRank obično se uzima 0.85\n",
    "    # za v (personalization vector) default je uniformna distribucija\n",
    "    # za w (dangling node vector) također\n",
    "\n",
    "    # dimenzija matrice H, tj. broj redaka i stupaca, tj. broj web-stranica (vrhova)\n",
    "    n = H.shape[0]  # ovo računa broj redaka, jer je H.shape uređeni par broja redaka i broja stupaca\n",
    "    if v is None:\n",
    "        v = np.ones(n) / n\n",
    "    if w is None:\n",
    "        w = np.ones(n) / n\n",
    "    #H,P = permute_matrix(H,[])\n",
    "\n",
    "    # detekcija nul-redaka matrice H - onih koji odgovaraju dangling vrhovima\n",
    "    row_sums = H.sum(axis = 1)\n",
    "    nondangling_nodes = np.where(row_sums > 0)[0]\n",
    "    dangling_nodes = np.where(row_sums == 0)[0]\n",
    "\n",
    "    # ==> računanje vektora d\n",
    "    d = np.zeros(n)\n",
    "    d[dangling_nodes] = 1\n",
    "\n",
    "    S = H + np.outer(d, w)\n",
    "    # normalizacija stupaca matrice S, da bi S bila stupčano stohastička\n",
    "    S /= S.sum(axis = 1)\n",
    "\n",
    "    # ==> računanje Google matrice G za dane alpha i v\n",
    "    e = np.ones(n)\n",
    "    G = alpha * S + (1 - alpha) * np.outer(e, v)\n",
    "\n",
    "\n",
    "    # Metoda potencija na G^\n",
    "    sigma = np.ones(G.shape[0]) / G.shape[0]\n",
    "    while maxiter > 0:\n",
    "        maxiter -= 1\n",
    "        new_sigma = sigma @ G\n",
    "        new_sigma /= sum(new_sigma)\n",
    "        # provjera uvjeta konvergencije\n",
    "        if np.linalg.norm((new_sigma.T @ G  - new_sigma).T, 1) < epsilon: # za metriku koristimo normu_1 vektora\n",
    "            sigma = new_sigma\n",
    "            break\n",
    "        #new_sigma[-1] = 1 - sum(new_sigma[:-1])\n",
    "        sigma = new_sigma\n",
    "\n",
    "    # Dobivanje PageRank vektora iz sigme\n",
    "    pi = np.zeros(n)\n",
    "    pi = sigma\n",
    "\n",
    "    #print((pi @ G).T) # transpose\n",
    "    #print(sum(pi))\n",
    "    return pi\n"
   ]
  },
  {
   "cell_type": "code",
   "execution_count": 5,
   "id": "dBQs1UezgOe8",
   "metadata": {
    "id": "dBQs1UezgOe8"
   },
   "outputs": [],
   "source": [
    "def permutation_matrix(H): #makes a permutation matrix when there is only one dangling group\n",
    "  P= np.array([([0]*H.shape[0]) for i in range(H.shape[0])])\n",
    "  #print(P)\n",
    "  for i in range(H.shape[0]):\n",
    "    if sum(H[i]) == 0 and sum(P[i]) == 0:\n",
    "      t = False\n",
    "      for j in range(H.shape[0] - 1, i, -1):\n",
    "        if sum(H[j]) > 0 and sum(P[j]) == 0:\n",
    "          P[j][i] = 1\n",
    "          P[i][j] = 1\n",
    "          t = True\n",
    "          break\n",
    "      if t == False:\n",
    "        P[i][i] = 1\n",
    "    elif sum(P[i]) == 0:\n",
    "      P[i][i] = 1\n",
    "  return P\n",
    "\n",
    "\n"
   ]
  },
  {
   "cell_type": "code",
   "execution_count": 6,
   "id": "v3cRSJPFMuOK",
   "metadata": {
    "id": "v3cRSJPFMuOK"
   },
   "outputs": [],
   "source": [
    "def compute_pagerank_with_lumping_multiple_groups(H, alpha = 0.85, v = None, w = None, epsilon = 1e-6, maxiter = 100, groups = None):\n",
    "\n",
    "    # za faktor alpha za PageRank obično se uzima 0.85\n",
    "    # za v (personalization vector) default je uniformna distribucija\n",
    "    # za w (dangling node vector) također\n",
    "\n",
    "    # dimenzija matrice H, tj. broj redaka i stupaca, tj. broj web-stranica (vrhova)\n",
    "    n = H.shape[0]  # ovo računa broj redaka, jer je H.shape uređeni par broja redaka i broja stupaca\n",
    "    if v is None:\n",
    "        v = np.ones(n) / n\n",
    "    if w is None and groups is None:\n",
    "        w = [ np.ones(n) / n]\n",
    "    elif w is None:\n",
    "      w = [np.ones(n) / n] * len(groups)\n",
    "\n",
    "    w = [np.array(wi) for wi in w]\n",
    "    v = np.array(v)\n",
    "    # detekcija nul-redaka matrice H - onih koji odgovaraju dangling vrhovima\n",
    "    row_sums = H.sum(axis = 1)\n",
    "    nondangling_nodes = np.where(row_sums > 0)[0]\n",
    "    dangling_nodes = np.where(row_sums == 0)[0]\n",
    "    k = len(nondangling_nodes)\n",
    "\n",
    "    if groups is None:\n",
    "      groups = [dangling_nodes]\n",
    "    m = len(groups)\n",
    "    S = H\n",
    "    prev = k\n",
    "    S = S.astype(float)\n",
    "    for i in range(m):\n",
    "      for j in range(len(groups[i])):\n",
    "        S[prev + j][:] = w[i][:]\n",
    "      prev += len(groups[i])\n",
    "    # normalizacija redaka matrice S, da bi S bila retčano stohastička\n",
    "\n",
    "    S_SUM = S.sum(axis = 1)\n",
    "    S /=  S_SUM[:, np.newaxis]\n",
    "    # ==> računanje Google matrice F za dane alpha i v\n",
    "    e = np.ones(n)\n",
    "    F = alpha * S + (1 - alpha) * np.outer(e, v)\n",
    "\n",
    "\n",
    "    # Metoda potencija na F^(1)\n",
    "\n",
    "    sigma = np.ones(k + m ) / (k + m)\n",
    "    new_sigma = np.zeros(k + m)\n",
    "    while maxiter > 0:\n",
    "        maxiter -= 1\n",
    "        temp = np.zeros(k)\n",
    "        for i in range(m):\n",
    "          temp += sigma[k + i]* w[i][:k]\n",
    "        new_sigma[:k] = alpha * (sigma[:k] @ S[:k,:k]) + (1-alpha)*v[:k] + alpha * temp   #sigma 1:k\n",
    "\n",
    "        previous_group_ind = k\n",
    "        for i in range(m):\n",
    "          temp = 0\n",
    "          prev = k\n",
    "          for j in range(m):\n",
    "            len_group = len(groups[j])\n",
    "            temp += sigma[k + j] * (alpha * w[j][prev: prev + len_group] + (1-alpha) * v[prev: prev + len_group]) @ np.ones(len_group).T\n",
    "            prev += len_group\n",
    "          new_sigma[k + i] = temp + sigma[:k]@(alpha * S[:k,previous_group_ind: previous_group_ind + len(groups[i])] + (1-alpha)* np.ones(k).reshape(k,1) @  v[previous_group_ind: previous_group_ind + len(groups[i])].reshape(1,len(groups[i])))@np.ones(len(groups[i])).T\n",
    "          previous_group_ind += len(groups[i])\n",
    "\n",
    "        # provjera uvjeta konvergencije\n",
    "        if np.linalg.norm((sigma  - new_sigma/sum(new_sigma)), 1) < epsilon: # za metriku koristimo normu_1 vektora\n",
    "            sigma = new_sigma/sum(new_sigma)\n",
    "            break\n",
    "        sigma = new_sigma/sum(new_sigma)\n",
    "\n",
    "    # Dobivanje PageRank vektora iz sigme\n",
    "    pi = np.zeros(n)\n",
    "    pi[:k] = sigma[:k]\n",
    "    segment = [t for t in range(k)]\n",
    "    for t in groups:\n",
    "      segment.append(t[0])\n",
    "    F_pi = F[segment,k:]\n",
    "    pi = sigma[:k]\n",
    "    pi = np.append(pi,sigma @ F_pi)\n",
    "    #print(np.linalg.norm( (pi - pi.T@F), 1))\n",
    "    return (pi,(pi.T @ F).T)"
   ]
  },
  {
   "cell_type": "code",
   "execution_count": 7,
   "id": "UUfMUGnmHrXL",
   "metadata": {
    "colab": {
     "base_uri": "https://localhost:8080/"
    },
    "id": "UUfMUGnmHrXL",
    "outputId": "689ff7be-0dd0-4c4a-da1e-54386cbd8201"
   },
   "outputs": [
    {
     "name": "stdout",
     "output_type": "stream",
     "text": [
      "[0.2189943  0.20581693 0.14050285 0.14050282 0.15368026 0.14050282]\n"
     ]
    }
   ],
   "source": [
    "A = np.array([[0, 1, 1, 1, 0, 1],\n",
    "              [0, 0, 0, 0, 0, 0],\n",
    "              [1, 0, 0, 0, 1, 0],\n",
    "              [0, 0, 0, 0, 0, 0],\n",
    "              [1, 1, 0, 0, 0, 0],\n",
    "              [0, 0, 0, 0, 0, 0]])\n",
    "\n",
    "H,P,P_inv,groups = permute_matrix(A, [[5],[3,1]])\n",
    "#print(groups)\n",
    "\n",
    "#pi = compute_pagerank_with_lumping_multiple_groups(H, alpha = 0.85, v = None, w = None, epsilon = 1e-6, groups = groups, maxiter = 1000)\n",
    "pi, pi_check = compute_pagerank_with_lumping_multiple_groups(H, alpha = 0.85, v = None, w = None, epsilon = 1e-6, groups = None, maxiter = 1000)\n",
    "print(pi[P_inv])"
   ]
  },
  {
   "cell_type": "code",
   "execution_count": 8,
   "id": "U_jxhEyEM8vB",
   "metadata": {
    "id": "U_jxhEyEM8vB"
   },
   "outputs": [],
   "source": [
    "import time\n",
    "n = 15000\n",
    "p_s = [0.9, 0.8, 0.7, 0.6, 0.5 , 0.4, 0.3, 0.2, 0.1]\n",
    "time_optim = np.zeros(len(p_s))\n",
    "time_no_optim =  np.zeros(len(p_s))\n",
    "for pos in range(len(p_s)):\n",
    "  A = np.zeros((n,n))\n",
    "  k = np.random.binomial(n=1, p=p_s[pos], size=[n])\n",
    "  for i in range(n):\n",
    "    if k[i] == 1:\n",
    "      A[i][:] = np.random.binomial(n=1, p=0.7, size=[n])\n",
    "  H,P,P_inv,groups = permute_matrix(A, [])\n",
    "  begin = time.time()\n",
    "  pi,pi_check = compute_pagerank_with_lumping_multiple_groups(H, alpha = 0.85, v = None, w = None, epsilon = 1e-6, groups = None, maxiter = 100)\n",
    "  time_optim[pos] = time.time() - begin\n",
    "  begin = time.time()\n",
    "  PI_no = compute_pagerank(H, alpha = 0.85, v = None, w = None, epsilon = 1e-6, maxiter = 100)\n",
    "  time_no_optim[pos] = time.time() - begin\n",
    "\n",
    "\n"
   ]
  },
  {
   "cell_type": "code",
   "execution_count": 14,
   "id": "nAk0YcECRa89",
   "metadata": {
    "colab": {
     "base_uri": "https://localhost:8080/",
     "height": 503
    },
    "id": "nAk0YcECRa89",
    "outputId": "181c88d3-0fbe-4741-d8dd-6880feb93762"
   },
   "outputs": [
    {
     "name": "stdout",
     "output_type": "stream",
     "text": [
      "[ 7.98609972 18.97761273 20.60768008 15.74318099 12.0698421  11.91678143\n",
      " 18.56074286 24.96551108 21.78090334]\n",
      "[48.02252388 54.34553576 52.79217052 20.23048973 20.83545637 20.97254896\n",
      " 53.59272361 50.36083055 39.25282335]\n"
     ]
    },
    {
     "data": {
      "image/png": "[encoded data removed]",
      "text/plain": [
       "<Figure size 640x480 with 1 Axes>"
      ]
     },
     "metadata": {},
     "output_type": "display_data"
    }
   ],
   "source": [
    "import matplotlib.pyplot as plt\n",
    "\n",
    "print(time_optim)\n",
    "print(time_no_optim)\n",
    "x = p_s[::-1]\n",
    "plt.plot(x, time_optim[::-1], color = 'r')\n",
    "plt.plot(x, time_no_optim[::-1], color = 'b')\n",
    "plt.show()"
   ]
  }
 ],
 "metadata": {
  "colab": {
   "provenance": []
  },
  "kernelspec": {
   "display_name": "Python 3",
   "language": "python",
   "name": "python3"
  },
  "language_info": {
   "codemirror_mode": {
    "name": "ipython",
    "version": 3
   },
   "file_extension": ".py",
   "mimetype": "text/x-python",
   "name": "python",
   "nbconvert_exporter": "python",
   "pygments_lexer": "ipython3",
   "version": "3.13.0"
  }
 },
 "nbformat": 4,
 "nbformat_minor": 5
}
